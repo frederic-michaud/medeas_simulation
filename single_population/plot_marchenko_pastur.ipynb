{
 "cells": [
  {
   "cell_type": "code",
   "execution_count": 17,
   "metadata": {
    "collapsed": true
   },
   "outputs": [],
   "source": [
    "import numpy as np\n",
    "import pickle\n",
    "import matplotlib.pyplot as plt\n",
    "import os\n",
    "import scipy.stats\n",
    "import scipy.optimize "
   ]
  },
  {
   "cell_type": "code",
   "execution_count": 2,
   "metadata": {
    "collapsed": false
   },
   "outputs": [
    {
     "name": "stdout",
     "output_type": "stream",
     "text": [
      "/Users/fmichaud/PycharmProjects/medeas_simulations/single_population/marchenko_pastur\n"
     ]
    }
   ],
   "source": [
    "simulation_subfolder1 = \"single_population\"\n",
    "simulation_subfolder2 = \"marchenko_pastur\"\n",
    "current_folder = os.getcwd()\n",
    "home_folder = os.path.split(current_folder)[0]\n",
    "simulation_subfolder = os.path.join(home_folder,simulation_subfolder1,simulation_subfolder2)\n",
    "print(simulation_subfolder)"
   ]
  },
  {
   "cell_type": "code",
   "execution_count": 6,
   "metadata": {
    "collapsed": true
   },
   "outputs": [],
   "source": [
    "L=1000"
   ]
  },
  {
   "cell_type": "code",
   "execution_count": 31,
   "metadata": {},
   "outputs": [],
   "source": [
    "input_files = open(os.path.join(simulation_subfolder,\"L_10000/MDS_eigensystem/p2.vecs.data\"),\"rb\")\n",
    "val,vec = pickle.load(input_files)"
   ]
  },
  {
   "cell_type": "code",
   "execution_count": 58,
   "metadata": {},
   "outputs": [
    {
     "name": "stderr",
     "output_type": "stream",
     "text": [
      "/Users/fmichaud/anaconda3/envs/medeas/lib/python3.6/site-packages/matplotlib/axes/_axes.py:6571: UserWarning: The 'normed' kwarg is deprecated, and has been replaced by the 'density' kwarg.\n  warnings.warn(\"The 'normed' kwarg is deprecated, and has been \"\n"
     ]
    },
    {
     "data": {
      "image/png": "[encoded data removed]",
      "text/plain": [
       "<Figure size 432x288 with 1 Axes>"
      ]
     },
     "metadata": {},
     "output_type": "display_data"
    }
   ],
   "source": [
    "plt.hist(val,20,normed = 1,label = \"Simulated value\")\n",
    "def dens_fit(x: float, T: float, L: int):\n",
    "    \"\"\"Integral of Marchenko-Pastur distribution function for\n",
    "    arbitrary x from total tree length 'T' and number of markers L.\n",
    "    \"\"\"\n",
    "    a = 2/T**2 * (1 - np.sqrt(N/L))**2\n",
    "    b = 2/T**2 * (1 + np.sqrt(N/L))**2\n",
    "    if x <= a:\n",
    "        return 0.0\n",
    "    if x >= b:\n",
    "        return (N-1) * 1.0\n",
    "    return (N-1) * dens(x, a, b) / dens(b, a, b)\n",
    "xs = np.arange(0,0.2,0.001)\n",
    "cdfs = [dens_fit(x,5.548,4014) for x in xs]\n",
    "ys = [cdfs[index+1]-cdfs[index] for index in range(len(xs)-1)]\n",
    "ys.append(0)\n",
    "ys = np.array(ys)\n",
    "ys[ys<0] = 0\n",
    "plt.plot(xs,ys,label = \"theoretical value\")\n",
    "plt.xlabel(\"Renormalized largest eigenvalue\")\n",
    "plt.ylabel(\"PDF\")\n",
    "plt.savefig(os.path.join(simulation_subfolder,\"marchenko_pastur.pdf\"))"
   ]
  },
  {
   "cell_type": "code",
   "execution_count": 53,
   "metadata": {},
   "outputs": [
    {
     "data": {
      "text/plain": [
       "[0.0,\n 0.0,\n 0.0,\n 0.0,\n 0.0,\n 0.0,\n 0.0,\n 0.0,\n 0.0,\n 0.0,\n 0.0,\n 0.0,\n 0.0,\n 0.0,\n 0.0,\n 0.0,\n 0.0,\n 2.6506402269766913,\n 9.547471932391906,\n 18.418697246822372,\n 28.548555065138938,\n 39.55235082181342,\n 51.18468312127598,\n 63.275742511133835,\n 75.70218718479684,\n 88.37147384701477,\n 101.21253279005852,\n 114.16982292483662,\n 127.19934732796595,\n 140.26587943296622,\n 153.34097353944708,\n 166.40150306610226,\n 179.42856497001975,\n 192.40664474867194,\n 205.32297088206104,\n 218.16700952388797,\n 230.93006466936984,\n 243.60495874595236,\n 256.18577527193366,\n 268.66764993651725,\n 281.04659982197745,\n 293.3193829338138,\n 305.4833820049925,\n 317.5365078822525,\n 329.4771188139828,\n 341.30395272947516,\n 353.0160701915113,\n 364.6128061633322,\n 376.09372908981675,\n 387.45860607516113,\n 398.707373163215,\n 409.8401099052281,\n 420.8570175430579,\n 431.7584002515204,\n 442.54464897735534,\n 453.216227488731,\n 463.77366031181333,\n 474.217522282413,\n 484.54842948325364,\n 494.7670313726526,\n 504.8740039397519,\n 514.8700437459336,\n 524.7558627325864,\n 534.5321836926465,\n 544.1997363178783,\n 553.759253746169,\n 563.2114695435274,\n 572.5571150643574,\n 581.7969171411012,\n 590.9315960608261,\n 599.9618637918195,\n 608.8884224280076,\n 617.7119628230655,\n 626.4331633895912,\n 635.0526890417267,\n 643.5711902622048,\n 651.989302277061,\n 660.3076443231714,\n 668.5268189954719,\n 676.6474116621547,\n 684.6699899374033,\n 692.5951032022949,\n 700.4232821654488,\n 708.1550384557862,\n 715.7908642404626,\n 723.3312318616047,\n 730.7765934859875,\n 738.1273807621778,\n 745.3840044800157,\n 752.5468542275579,\n 759.6162980408052,\n 766.5926820416787,\n 773.4763300597775,\n 780.267543233476,\n 786.9665995858813,\n 793.573753571077,\n 800.0892355859273,\n 806.5132514424959,\n 812.8459817958546,\n 819.0875815217037,\n 825.238179037786,\n 831.29787556256,\n 837.2667443039701,\n 843.1448295704128,\n 848.9321457951354,\n 854.6286764642738,\n 860.2343729375399,\n 865.7491531491644,\n 871.1729001750334,\n 876.5054606500155,\n 881.746643017163,\n 886.8962155877489,\n 891.9539043878485,\n 896.9193907633093,\n 901.7923087103142,\n 906.5722418931571,\n 911.258720304102,\n 915.8512165119733,\n 920.3491414360808,\n 924.7518395696952,\n 929.0585835619588,\n 933.2685680479522,\n 937.380902592526,\n 941.394603582941,\n 945.308584866177,\n 949.1216468761518,\n 952.832463929941,\n 956.4395692846488,\n 959.9413374295746,\n 963.3359629295685,\n 966.6214349167769,\n 969.7955060217469,\n 972.8556540978808,\n 975.7990344567983,\n 978.6224193832552,\n 981.3221202456139,\n 983.8938852257214,\n 986.3327619465596,\n 988.6329078999798,\n 990.7873201828531,\n 992.7874344605416,\n 994.6224991085048,\n 996.2785323992978,\n 997.7364242825099,\n 998.9680199767353,\n 999.9264579385342,\n 1000.6194391668189,\n 999.0,\n 999.0,\n 999.0,\n 999.0,\n 999.0,\n 999.0,\n 999.0,\n 999.0,\n 999.0,\n 999.0,\n 999.0,\n 999.0,\n 999.0,\n 999.0,\n 999.0,\n 999.0,\n 999.0,\n 999.0,\n 999.0,\n 999.0,\n 999.0,\n 999.0,\n 999.0,\n 999.0,\n 999.0,\n 999.0,\n 999.0,\n 999.0,\n 999.0,\n 999.0,\n 999.0,\n 999.0,\n 999.0,\n 999.0,\n 999.0,\n 999.0,\n 999.0,\n 999.0,\n 999.0,\n 999.0,\n 999.0,\n 999.0,\n 999.0,\n 999.0,\n 999.0,\n 999.0,\n 999.0,\n 999.0,\n 999.0,\n 999.0,\n 999.0,\n 999.0,\n 999.0]"
      ]
     },
     "execution_count": 53,
     "metadata": {},
     "output_type": "execute_result"
    }
   ],
   "source": [
    "cdfs"
   ]
  },
  {
   "cell_type": "code",
   "execution_count": 33,
   "metadata": {
    "collapsed": false
   },
   "outputs": [
    {
     "name": "stdout",
     "output_type": "stream",
     "text": [
      "FIT:  [   5.54820488 4022.62762434] [1.40528048e-03 8.19096539e+00]\nExtrapolated value for the total tree length T: 5.548204883883381\nExtrapolated value for number of loci L:, 4014.436658948716\n"
     ]
    },
    {
     "data": {
      "image/png": "[encoded data removed]",
      "text/plain": [
       "<Figure size 432x288 with 1 Axes>"
      ]
     },
     "metadata": {},
     "output_type": "display_data"
    }
   ],
   "source": [
    "N = 1000\n",
    "def dens(x: float, a: float, b: float) -> float:\n",
    "    \"\"\"Integral of Marchenko-Pastur distribution function on interval\n",
    "    a < x < b.\n",
    "    \"\"\"\n",
    "    arc1 = np.arcsin((2*x - a - b)/(b - a)/1.00001)\n",
    "    arc2 = np.arcsin(((a+b)*x-2*a*b)/x/(b - a)/1.00001)\n",
    "    res = (np.sqrt((b-x)*(x-a))\n",
    "            + (a+b)*arc1/2\n",
    "            - np.sqrt(a*b)*arc2\n",
    "            + np.pi*((a+b)/2 - np.sqrt(a*b))/2)\n",
    "    return res\n",
    "\n",
    "\n",
    "def find_TW(lambdas, L: float, T: float, N: int) -> float:\n",
    "    \"\"\"Find Tracy-Widom statistics for the highest (first) eigenvalue\n",
    "    among 'lambdas'.\n",
    "    \"\"\"\n",
    "    m = len(lambdas)\n",
    "    n = int(L)\n",
    "    mu = (np.sqrt(n - 1) + np.sqrt(m))**2 / n\n",
    "    sigma = (1/np.sqrt(n-1) + 1/np.sqrt(m))**(1/3) * (np.sqrt(n - 1) + np.sqrt(m)) / n\n",
    "    l = lambdas[0] * T**2/2 # * m/np.sum(lambdas)\n",
    "    s = (l - mu) / sigma\n",
    "    print(f'n = {n}, l = {l},mu =  {mu},sigma = {sigma},T**2/2 = {T**2/2}, m/np.sum(lambdas) = {m/np.sum(lambdas)} s = {s}')\n",
    "    return s\n",
    "\n",
    "\n",
    "def find_T_and_L(file: str):\n",
    "    \"\"\"Find total tree length T and effective number of markers L using\n",
    "    the bulk eigenvalues from eigensystem stored in (pickled) 'file'.\n",
    "    \"\"\"\n",
    "    with open(file, 'rb') as f:\n",
    "        lambdas, vecs = pickle.load(f)\n",
    "\n",
    "    # finding L and T from fit\n",
    "\n",
    "    lambdas_s = np.array(sorted(lambdas))\n",
    "    lambdas_s = lambdas_s[1:]\n",
    "    N = len(lambdas)\n",
    "\n",
    "def dens_fit(x: float, T: float, L: int):\n",
    "    \"\"\"Integral of Marchenko-Pastur distribution function for\n",
    "    arbitrary x from total tree length 'T' and number of markers L.\n",
    "    \"\"\"\n",
    "    a = 2/T**2 * (1 - np.sqrt(N/L))**2\n",
    "    b = 2/T**2 * (1 + np.sqrt(N/L))**2\n",
    "    if x <= a:\n",
    "        return 0.0\n",
    "    if x >= b:\n",
    "        return (N-1) * 1.0\n",
    "    return (N-1) * dens(x, a, b) / dens(b, a, b)\n",
    "\n",
    "popt, pcov = scipy.optimize.curve_fit(np.vectorize(dens_fit, otypes=[np.float]),\n",
    "                       val, range(len(val)),\n",
    "                       p0 = (1, N+1), bounds=([0.1, N], [100, 1000*N]))\n",
    "\n",
    "\n",
    "plt.plot(val, range(len(val)))\n",
    "lambdas_se = np.linspace(val.min(), val.max(), 5000)\n",
    "l_dens_fit = [dens_fit(l, *popt) for l in lambdas_se]\n",
    "import matplotlib.pylab as pyl\n",
    "pyl.xlim([0.0,0.2])\n",
    "plt.plot(lambdas_se, l_dens_fit)\n",
    "plt.savefig('new_fit234.pdf')\n",
    "p_err = np.sqrt(np.diag(pcov))\n",
    "print('FIT: ', popt, p_err)\n",
    "print(f'Extrapolated value for the total tree length T: {popt[0]}')\n",
    "print(f'Extrapolated value for number of loci L:, {popt[1] - p_err[1]}')\n",
    "\n"
   ]
  },
  {
   "cell_type": "code",
   "execution_count": 50,
   "metadata": {
    "collapsed": true
   },
   "outputs": [
    {
     "data": {
      "text/plain": [
       "Counter({2: 108,\n         9: 21,\n         24: 11,\n         82: 2,\n         7: 21,\n         26: 8,\n         18: 18,\n         28: 9,\n         4: 48,\n         15: 7,\n         1: 220,\n         3: 61,\n         96: 1,\n         17: 6,\n         5: 42,\n         62: 4,\n         8: 18,\n         10: 22,\n         41: 6,\n         85: 2,\n         21: 4,\n         42: 4,\n         65: 1,\n         70: 2,\n         67: 5,\n         6: 29,\n         87: 2,\n         14: 12,\n         59: 4,\n         69: 2,\n         31: 9,\n         71: 3,\n         23: 9,\n         40: 7,\n         37: 7,\n         54: 7,\n         11: 19,\n         12: 21,\n         61: 2,\n         66: 3,\n         13: 14,\n         20: 8,\n         22: 12,\n         30: 6,\n         38: 5,\n         89: 3,\n         25: 11,\n         19: 8,\n         44: 6,\n         27: 8,\n         33: 4,\n         58: 3,\n         29: 2,\n         77: 1,\n         47: 3,\n         68: 8,\n         16: 11,\n         97: 4,\n         32: 4,\n         57: 5,\n         48: 2,\n         50: 8,\n         51: 7,\n         75: 2,\n         88: 4,\n         78: 3,\n         83: 1,\n         46: 4,\n         92: 3,\n         39: 5,\n         52: 4,\n         76: 3,\n         49: 4,\n         74: 2,\n         91: 2,\n         34: 4,\n         35: 4,\n         43: 3,\n         99: 1,\n         55: 1,\n         98: 2,\n         60: 1,\n         64: 1,\n         63: 3,\n         86: 2,\n         84: 2,\n         72: 1,\n         45: 3,\n         56: 1,\n         36: 1,\n         90: 1,\n         95: 1})"
      ]
     },
     "execution_count": 50,
     "metadata": {},
     "output_type": "execute_result"
    }
   ],
   "source": [
    "Counter(presfs)"
   ]
  },
  {
   "cell_type": "code",
   "execution_count": 42,
   "metadata": {},
   "outputs": [
    {
     "data": {
      "text/plain": [
       "array([[0., 0., 0., ..., 0., 0., 0.],\n       [0., 0., 0., ..., 0., 0., 0.],\n       [0., 0., 1., ..., 0., 0., 1.],\n       ...,\n       [0., 0., 0., ..., 0., 0., 0.],\n       [1., 1., 1., ..., 1., 1., 1.],\n       [0., 0., 0., ..., 0., 0., 0.]])"
      ]
     },
     "execution_count": 42,
     "metadata": {},
     "output_type": "execute_result"
    }
   ],
   "source": [
    "snp"
   ]
  },
  {
   "cell_type": "code",
   "execution_count": null,
   "metadata": {},
   "outputs": [],
   "source": []
  }
 ],
 "metadata": {
  "kernelspec": {
   "display_name": "Python 2",
   "language": "python",
   "name": "python2"
  },
  "language_info": {
   "codemirror_mode": {
    "name": "ipython",
    "version": 2
   },
   "file_extension": ".py",
   "mimetype": "text/x-python",
   "name": "python",
   "nbconvert_exporter": "python",
   "pygments_lexer": "ipython2",
   "version": "2.7.6"
  }
 },
 "nbformat": 4,
 "nbformat_minor": 0
}
