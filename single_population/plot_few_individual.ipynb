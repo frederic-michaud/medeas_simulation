{
 "cells": [
  {
   "cell_type": "code",
   "execution_count": 1,
   "metadata": {
    "collapsed": true
   },
   "outputs": [],
   "source": [
    "import numpy as np\n",
    "import pickle\n",
    "import matplotlib.pyplot as plt\n",
    "import os\n",
    "import scipy.stats\n",
    "import probscale"
   ]
  },
  {
   "cell_type": "code",
   "execution_count": 18,
   "metadata": {
    "collapsed": false
   },
   "outputs": [
    {
     "name": "stdout",
     "output_type": "stream",
     "text": [
      "/Users/fmichaud/PycharmProjects/medeas_simulations/single_population/simplex_few_pop\n"
     ]
    }
   ],
   "source": [
    "simulation_subfolder1 = \"single_population\"\n",
    "simulation_subfolder2 = \"simplex_few_pop\"\n",
    "current_folder = os.getcwd()\n",
    "home_folder = os.path.split(current_folder)[0]\n",
    "simulation_subfolder = os.path.join(home_folder,simulation_subfolder1,simulation_subfolder2)\n",
    "print(simulation_subfolder)"
   ]
  },
  {
   "cell_type": "code",
   "execution_count": 81,
   "metadata": {
    "collapsed": true
   },
   "outputs": [
    {
     "name": "stdout",
     "output_type": "stream",
     "text": [
      "[[0.         0.66612766 0.66782979]\n [0.66612766 0.         0.66604255]\n [0.66782979 0.66604255 0.        ]]\n[[0.         0.81616644 0.81720853]\n [0.81616644 0.         0.8161143 ]\n [0.81720853 0.8161143  0.        ]]\n"
     ]
    }
   ],
   "source": [
    "Ls = [int(10**(i/4)) for i in range(12,13)]\n",
    "dist1 = pickle.load(open(os.path.join(simulation_subfolder,\"L_100000/asd_matrices\",\"p1.asd.data\"),\"rb\"))\n",
    "dist2 = pickle.load(open(os.path.join(simulation_subfolder,\"L_100000/asd_matrices\",\"p2.asd.data\"),\"rb\"))\n",
    "print(dist1)\n",
    "print(dist2)"
   ]
  },
  {
   "cell_type": "code",
   "execution_count": 84,
   "metadata": {},
   "outputs": [
    {
     "data": {
      "image/png": "[encoded data removed]",
      "text/plain": [
       "<Figure size 432x288 with 1 Axes>"
      ]
     },
     "metadata": {},
     "output_type": "display_data"
    }
   ],
   "source": [
    "var = np.loadtxt(os.path.join(simulation_subfolder,\"L_316/all_first_pc2.dat\"))\n",
    "plt.hist(np.sqrt(var[:,0])*(var[:,3]-var[:,1]))\n",
    "plt.ylabel(\"count\")\n",
    "plt.xlabel(\"Spread of the 1st PC axis\")\n",
    "plt.axvline((np.sqrt(2/3)),c = \"red\")\n",
    "plt.savefig(os.path.join(simulation_subfolder,\"distribution_spread_first_axis_p_2.pdf\"))"
   ]
  },
  {
   "cell_type": "code",
   "execution_count": 103,
   "metadata": {},
   "outputs": [
    {
     "data": {
      "image/png": "[encoded data removed]",
      "text/plain": [
       "<Figure size 432x288 with 1 Axes>"
      ]
     },
     "metadata": {},
     "output_type": "display_data"
    }
   ],
   "source": [
    "var = np.loadtxt(os.path.join(simulation_subfolder,\"L_316/all_first_pc1.dat\"))\n",
    "plt.hist(np.sqrt(var[:,0])*(var[:,3]-var[:,1]))\n",
    "plt.ylabel(\"count\")\n",
    "plt.xlabel(\"Spread of the 1st PC axis\")\n",
    "plt.axvline(2/3,c = \"red\")\n",
    "plt.savefig(os.path.join(simulation_subfolder,\"distribution_spread_first_axis_p_1.pdf\"))"
   ]
  },
  {
   "cell_type": "code",
   "execution_count": 107,
   "metadata": {
    "collapsed": false
   },
   "outputs": [
    {
     "data": {
      "text/plain": [
       "(array([100., 187., 159., 102., 102., 100.,  78.,  68.,  38.,  66.]),\n array([-0.10559677, -0.08434286, -0.06308894, -0.04183503, -0.02058111,\n         0.0006728 ,  0.02192672,  0.04318063,  0.06443455,  0.08568847,\n         0.10694238]),\n <a list of 10 Patch objects>)"
      ]
     },
     "execution_count": 107,
     "metadata": {},
     "output_type": "execute_result"
    },
    {
     "data": {
      "image/png": "[encoded data removed]",
      "text/plain": [
       "<Figure size 432x288 with 1 Axes>"
      ]
     },
     "metadata": {},
     "output_type": "display_data"
    }
   ],
   "source": [
    "plt.hist(var[:,0]*var[:,2])"
   ]
  },
  {
   "cell_type": "code",
   "execution_count": 100,
   "metadata": {},
   "outputs": [
    {
     "data": {
      "text/plain": [
       "(array([  4.,   4.,  10.,  14.,  24.,  40., 156., 114., 170., 180., 196.,\n        120., 144., 200.,  80.,  42.,  18.,  22.,  12.,  10.]),\n array([0.15384615, 0.16073718, 0.16762821, 0.17451923, 0.18141026,\n        0.18830128, 0.19519231, 0.20208333, 0.20897436, 0.21586538,\n        0.22275641, 0.22964744, 0.23653846, 0.24342949, 0.25032051,\n        0.25721154, 0.26410256, 0.27099359, 0.27788462, 0.28477564,\n        0.29166667]),\n <a list of 20 Patch objects>)"
      ]
     },
     "execution_count": 100,
     "metadata": {},
     "output_type": "execute_result"
    },
    {
     "data": {
      "image/png": "[encoded data removed]",
      "text/plain": [
       "<Figure size 432x288 with 1 Axes>"
      ]
     },
     "metadata": {},
     "output_type": "display_data"
    }
   ],
   "source": [
    "plt.hist(dist1.flatten()[dist1.flatten()>0.1],20)"
   ]
  },
  {
   "cell_type": "code",
   "execution_count": null,
   "metadata": {},
   "outputs": [],
   "source": []
  }
 ],
 "metadata": {
  "kernelspec": {
   "display_name": "Python 2",
   "language": "python",
   "name": "python2"
  },
  "language_info": {
   "codemirror_mode": {
    "name": "ipython",
    "version": 2
   },
   "file_extension": ".py",
   "mimetype": "text/x-python",
   "name": "python",
   "nbconvert_exporter": "python",
   "pygments_lexer": "ipython2",
   "version": "2.7.6"
  }
 },
 "nbformat": 4,
 "nbformat_minor": 0
}
