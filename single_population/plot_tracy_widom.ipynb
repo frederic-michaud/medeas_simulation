{
 "cells": [
  {
   "cell_type": "code",
   "execution_count": 4,
   "metadata": {
    "collapsed": true
   },
   "outputs": [],
   "source": [
    "import numpy as np\n",
    "import pickle\n",
    "import matplotlib.pyplot as plt\n",
    "import os\n",
    "import scipy.stats"
   ]
  },
  {
   "cell_type": "code",
   "execution_count": 5,
   "metadata": {
    "collapsed": false
   },
   "outputs": [
    {
     "name": "stdout",
     "output_type": "stream",
     "text": [
      "/Users/fmichaud/PycharmProjects/medeas_simulations/single_population/tracy_widom\n"
     ]
    }
   ],
   "source": [
    "simulation_subfolder1 = \"single_population\"\n",
    "simulation_subfolder2 = \"tracy_widom\"\n",
    "current_folder = os.getcwd()\n",
    "home_folder = os.path.split(current_folder)[0]\n",
    "simulation_subfolder = os.path.join(home_folder,simulation_subfolder1,simulation_subfolder2)\n",
    "print(simulation_subfolder)"
   ]
  },
  {
   "cell_type": "code",
   "execution_count": 6,
   "metadata": {
    "collapsed": true
   },
   "outputs": [],
   "source": [
    "L=1000"
   ]
  },
  {
   "cell_type": "code",
   "execution_count": 94,
   "metadata": {},
   "outputs": [
    {
     "name": "stderr",
     "output_type": "stream",
     "text": [
      "/Users/fmichaud/anaconda3/envs/medeas/lib/python3.6/site-packages/matplotlib/axes/_axes.py:6571: UserWarning: The 'normed' kwarg is deprecated, and has been replaced by the 'density' kwarg.\n  warnings.warn(\"The 'normed' kwarg is deprecated, and has been \"\n"
     ]
    },
    {
     "data": {
      "image/png": "[encoded data removed]",
      "text/plain": [
       "<Figure size 432x288 with 1 Axes>"
      ]
     },
     "metadata": {},
     "output_type": "display_data"
    }
   ],
   "source": [
    "input_files = open(os.path.join(simulation_subfolder,\"L_1000/tracy_widom.dat\"),\"r\")\n",
    "tws = []\n",
    "for line in input_files:\n",
    "    tw = line.split(\" \")[4]\n",
    "    tws.append(float(tw))\n",
    "plt.hist(tws,20,normed=1,label = \"Simulated value\")\n",
    "tw_distrib = np.loadtxt(os.path.join(simulation_subfolder,\"tracy_widom_pdf.dat\"))\n",
    "plt.plot(tw_distrib[:,0],tw_distrib[:,1],label = \"theoretical value\")\n",
    "plt.xlabel(\"Renormalized largest eigenvalue\")\n",
    "plt.ylabel(\"PDF\")\n",
    "plt.legend()\n",
    "plt.savefig(os.path.join(simulation_subfolder,\"tracy_widom.pdf\"))"
   ]
  },
  {
   "cell_type": "code",
   "execution_count": 13,
   "metadata": {},
   "outputs": [
    {
     "data": {
      "image/png": "[encoded data removed]",
      "text/plain": [
       "<Figure size 432x288 with 1 Axes>"
      ]
     },
     "metadata": {},
     "output_type": "display_data"
    }
   ],
   "source": [
    "var = np.loadtxt(os.path.join(simulation_subfolder,\"L_1000/all_first_pc2.dat\"))\n",
    "plt.hist(var[:,0])\n",
    "plt.ylabel(\"count\")\n",
    "plt.xlabel(\"1st Eigenvalue\")\n",
    "plt.savefig(os.path.join(simulation_subfolder,\"tracy_widom.pdf\"))"
   ]
  },
  {
   "cell_type": "code",
   "execution_count": 49,
   "metadata": {},
   "outputs": [
    {
     "data": {
      "image/png": "[encoded data removed]",
      "text/plain": [
       "<Figure size 432x288 with 1 Axes>"
      ]
     },
     "metadata": {},
     "output_type": "display_data"
    }
   ],
   "source": [
    "snp = np.loadtxt(os.path.join(simulation_subfolder,\"L_1000/snip.txt\"),dtype=int)\n",
    "snp = snp-1\n",
    "presfs = np.sum(snp,axis=1)\n",
    "plt.hist(presfs)\n",
    "presfsint = map(round,presfs)\n",
    "\n"
   ]
  },
  {
   "cell_type": "code",
   "execution_count": 50,
   "metadata": {
    "collapsed": true
   },
   "outputs": [
    {
     "data": {
      "text/plain": [
       "Counter({2: 108,\n         9: 21,\n         24: 11,\n         82: 2,\n         7: 21,\n         26: 8,\n         18: 18,\n         28: 9,\n         4: 48,\n         15: 7,\n         1: 220,\n         3: 61,\n         96: 1,\n         17: 6,\n         5: 42,\n         62: 4,\n         8: 18,\n         10: 22,\n         41: 6,\n         85: 2,\n         21: 4,\n         42: 4,\n         65: 1,\n         70: 2,\n         67: 5,\n         6: 29,\n         87: 2,\n         14: 12,\n         59: 4,\n         69: 2,\n         31: 9,\n         71: 3,\n         23: 9,\n         40: 7,\n         37: 7,\n         54: 7,\n         11: 19,\n         12: 21,\n         61: 2,\n         66: 3,\n         13: 14,\n         20: 8,\n         22: 12,\n         30: 6,\n         38: 5,\n         89: 3,\n         25: 11,\n         19: 8,\n         44: 6,\n         27: 8,\n         33: 4,\n         58: 3,\n         29: 2,\n         77: 1,\n         47: 3,\n         68: 8,\n         16: 11,\n         97: 4,\n         32: 4,\n         57: 5,\n         48: 2,\n         50: 8,\n         51: 7,\n         75: 2,\n         88: 4,\n         78: 3,\n         83: 1,\n         46: 4,\n         92: 3,\n         39: 5,\n         52: 4,\n         76: 3,\n         49: 4,\n         74: 2,\n         91: 2,\n         34: 4,\n         35: 4,\n         43: 3,\n         99: 1,\n         55: 1,\n         98: 2,\n         60: 1,\n         64: 1,\n         63: 3,\n         86: 2,\n         84: 2,\n         72: 1,\n         45: 3,\n         56: 1,\n         36: 1,\n         90: 1,\n         95: 1})"
      ]
     },
     "execution_count": 50,
     "metadata": {},
     "output_type": "execute_result"
    }
   ],
   "source": [
    "Counter(presfs)"
   ]
  },
  {
   "cell_type": "code",
   "execution_count": 42,
   "metadata": {},
   "outputs": [
    {
     "data": {
      "text/plain": [
       "array([[0., 0., 0., ..., 0., 0., 0.],\n       [0., 0., 0., ..., 0., 0., 0.],\n       [0., 0., 1., ..., 0., 0., 1.],\n       ...,\n       [0., 0., 0., ..., 0., 0., 0.],\n       [1., 1., 1., ..., 1., 1., 1.],\n       [0., 0., 0., ..., 0., 0., 0.]])"
      ]
     },
     "execution_count": 42,
     "metadata": {},
     "output_type": "execute_result"
    }
   ],
   "source": [
    "snp"
   ]
  },
  {
   "cell_type": "code",
   "execution_count": null,
   "metadata": {},
   "outputs": [],
   "source": []
  }
 ],
 "metadata": {
  "kernelspec": {
   "display_name": "Python 2",
   "language": "python",
   "name": "python2"
  },
  "language_info": {
   "codemirror_mode": {
    "name": "ipython",
    "version": 2
   },
   "file_extension": ".py",
   "mimetype": "text/x-python",
   "name": "python",
   "nbconvert_exporter": "python",
   "pygments_lexer": "ipython2",
   "version": "2.7.6"
  }
 },
 "nbformat": 4,
 "nbformat_minor": 0
}
